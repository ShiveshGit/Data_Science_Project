{
 "cells": [
  {
   "cell_type": "code",
   "execution_count": 2,
   "metadata": {},
   "outputs": [],
   "source": [
    "import pandas as pd\n",
    "import numpy as np\n",
    "from scipy.stats import chi2,norm"
   ]
  },
  {
   "cell_type": "code",
   "execution_count": 3,
   "metadata": {},
   "outputs": [],
   "source": [
    "def stratified_sampling(df, column_name, num_samples):\n",
    "    return df.groupby(column_name, group_keys=False).apply(lambda x: x.sample(n = num_samples, replace=False))"
   ]
  },
  {
   "cell_type": "code",
   "execution_count": 4,
   "metadata": {},
   "outputs": [],
   "source": [
    "data = pd.read_csv(\"dataset\\heart_2022_cleaned.csv\")"
   ]
  },
  {
   "cell_type": "code",
   "execution_count": 5,
   "metadata": {},
   "outputs": [],
   "source": [
    "def do_chi2_test(data,column1,column2,alpha = 0.01):\n",
    "    # print(\"***************************************************************************************************************************\")\n",
    "    # print(\"Chi2 Test for \",column1 ,\" and \" ,column2)\n",
    "    observed={}\n",
    "    cols=data[column1].unique()\n",
    "    for i in range(len(data[column2])):\n",
    "        if data[column2].iloc[i] not in observed:\n",
    "            observed[data[column2].iloc[i]]={}\n",
    "            for j in cols:\n",
    "                observed[data[column2].iloc[i]][j]=0\n",
    "        observed[data[column2].iloc[i]][data[column1].iloc[i]]+=1\n",
    "\n",
    "    observed=pd.DataFrame(observed).T\n",
    "    observed=observed.sort_index()\n",
    "    observed=observed[sorted(observed.columns)]\n",
    "    # print(\"Observed\")\n",
    "    # print(observed)\n",
    "    # print()\n",
    "    observed=observed.to_numpy()\n",
    "    row_sums = observed.sum(axis=1)\n",
    "    col_sums = observed.sum(axis=0)\n",
    "    total = row_sums.sum()\n",
    "    # expected = np.outer(row_sums, col_sums) / total\n",
    "\n",
    "    expected=np.zeros(observed.shape)\n",
    "    for i in range(observed.shape[0]):\n",
    "        for j in range(observed.shape[1]):\n",
    "            expected[i][j]=row_sums[i]*col_sums[j]/total\n",
    "    exp=pd.DataFrame(expected)\n",
    "    exp.columns=sorted(data[column1].unique())\n",
    "    exp.index=sorted(data[column2].unique())\n",
    "    # print(\"Expected\") \n",
    "    # print(exp)\n",
    "    chi2_stat = ((observed - expected)**2 / expected).sum()\n",
    "   \n",
    "    dof=(len(row_sums)-1)*(len(col_sums)-1)\n",
    "    critical = chi2.ppf(1-alpha, dof)\n",
    "    # print(\"chi2_stat: \",chi2_stat)\n",
    "    # print(\"critical: \",critical)\n",
    "    if chi2_stat>=critical:\n",
    "        # print(\"Dependent (reject H0)\")\n",
    "        return [chi2_stat,critical,1]\n",
    "    else:\n",
    "        # print(\"Independent (fail to reject H0)\")\n",
    "        return [chi2_stat,critical,-1]"
   ]
  },
  {
   "cell_type": "code",
   "execution_count": 6,
   "metadata": {},
   "outputs": [
    {
     "data": {
      "text/plain": [
       "Index(['State', 'Sex', 'GeneralHealth', 'LastCheckupTime',\n",
       "       'PhysicalActivities', 'RemovedTeeth', 'HadHeartAttack', 'HadAngina',\n",
       "       'HadStroke', 'HadAsthma', 'HadSkinCancer', 'HadCOPD',\n",
       "       'HadDepressiveDisorder', 'HadKidneyDisease', 'HadArthritis',\n",
       "       'HadDiabetes', 'DeafOrHardOfHearing', 'BlindOrVisionDifficulty',\n",
       "       'DifficultyConcentrating', 'DifficultyWalking',\n",
       "       'DifficultyDressingBathing', 'DifficultyErrands', 'SmokerStatus',\n",
       "       'ECigaretteUsage', 'ChestScan', 'RaceEthnicityCategory', 'AgeCategory',\n",
       "       'AlcoholDrinkers', 'HIVTesting', 'FluVaxLast12', 'PneumoVaxEver',\n",
       "       'TetanusLast10Tdap', 'HighRiskLastYear', 'CovidPos'],\n",
       "      dtype='object')"
      ]
     },
     "execution_count": 6,
     "metadata": {},
     "output_type": "execute_result"
    }
   ],
   "source": [
    "categorical_columns = data.select_dtypes(include=['object']).columns\n",
    "categorical_columns"
   ]
  },
  {
   "cell_type": "markdown",
   "metadata": {},
   "source": [
    "### $\\chi^2$ Test for independence between age category and Heart Health ###"
   ]
  },
  {
   "cell_type": "code",
   "execution_count": null,
   "metadata": {},
   "outputs": [],
   "source": [
    "import os\n",
    "\n",
    "os.makedirs('output/stratified_sampling', exist_ok=True)"
   ]
  },
  {
   "cell_type": "code",
   "execution_count": 24,
   "metadata": {},
   "outputs": [
    {
     "ename": "PermissionError",
     "evalue": "[Errno 13] Permission denied: 'output/stratified_sampling'",
     "output_type": "error",
     "traceback": [
      "\u001b[1;31m---------------------------------------------------------------------------\u001b[0m",
      "\u001b[1;31mPermissionError\u001b[0m                           Traceback (most recent call last)",
      "Input \u001b[1;32mIn [24]\u001b[0m, in \u001b[0;36m<cell line: 1>\u001b[1;34m()\u001b[0m\n\u001b[0;32m      4\u001b[0m \u001b[38;5;66;03m# for num_samples in range(1000,5001,1000):\u001b[39;00m\n\u001b[0;32m      5\u001b[0m \u001b[38;5;28;01mfor\u001b[39;00m num_samples \u001b[38;5;129;01min\u001b[39;00m \u001b[38;5;28mrange\u001b[39m(\u001b[38;5;241m1\u001b[39m,\u001b[38;5;241m6\u001b[39m,\u001b[38;5;241m1\u001b[39m):\n\u001b[0;32m      6\u001b[0m     \u001b[38;5;66;03m# file_path = os.path.join(\"output\", \"stratified_sampling\", col, f\"chi2_test_result_{num_samples}.txt\")\u001b[39;00m\n\u001b[0;32m      7\u001b[0m     \u001b[38;5;66;03m# f=open(file_path,\"w\")   \u001b[39;00m\n\u001b[1;32m----> 8\u001b[0m     f\u001b[38;5;241m=\u001b[39m\u001b[38;5;28;43mopen\u001b[39;49m\u001b[43m(\u001b[49m\u001b[38;5;124;43m\"\u001b[39;49m\u001b[38;5;124;43moutput/stratified_sampling\u001b[39;49m\u001b[38;5;124;43m\"\u001b[39;49m\u001b[43m,\u001b[49m\u001b[38;5;124;43m\"\u001b[39;49m\u001b[38;5;124;43mw\u001b[39;49m\u001b[38;5;124;43m\"\u001b[39;49m\u001b[43m)\u001b[49m\n\u001b[0;32m      9\u001b[0m     \u001b[38;5;28;01mfor\u001b[39;00m iteration \u001b[38;5;129;01min\u001b[39;00m \u001b[38;5;28mrange\u001b[39m(\u001b[38;5;241m1\u001b[39m,\u001b[38;5;241m6\u001b[39m):\n\u001b[0;32m     10\u001b[0m         sample \u001b[38;5;241m=\u001b[39m stratified_sampling(data,\u001b[38;5;124m'\u001b[39m\u001b[38;5;124mGeneralHealth\u001b[39m\u001b[38;5;124m'\u001b[39m,num_samples)\n",
      "\u001b[1;31mPermissionError\u001b[0m: [Errno 13] Permission denied: 'output/stratified_sampling'"
     ]
    }
   ],
   "source": [
    "for col in categorical_columns:\n",
    "    if col=='GeneralHealth':\n",
    "        continue\n",
    "    # for num_samples in range(1000,5001,1000):\n",
    "    for num_samples in range(1,6,1):\n",
    "        # file_path = os.path.join(\"output\", \"stratified_sampling\", col, f\"chi2_test_result_{num_samples}.txt\")\n",
    "        # f=open(file_path,\"w\")   \n",
    "        f=open(\"output/stratified_sampling\",\"w\")\n",
    "        for iteration in range(1,6):\n",
    "            sample = stratified_sampling(data,'GeneralHealth',num_samples)\n",
    "            f.write(f\"<Iteration-{iteration}>\\n\")\n",
    "            chi2_stat,chi2_critical,result = do_chi2_test(sample,col,'GeneralHealth',0.01)\n",
    "            f.write(f\"{chi2_stat}\\n\")\n",
    "            f.write(f\"{chi2_critical}\\n\")\n",
    "            f.write(f\"{result}\\n\")\n",
    "        f.close()"
   ]
  }
 ],
 "metadata": {
  "kernelspec": {
   "display_name": "Python 3",
   "language": "python",
   "name": "python3"
  },
  "language_info": {
   "codemirror_mode": {
    "name": "ipython",
    "version": 3
   },
   "file_extension": ".py",
   "mimetype": "text/x-python",
   "name": "python",
   "nbconvert_exporter": "python",
   "pygments_lexer": "ipython3",
   "version": "3.10.1"
  }
 },
 "nbformat": 4,
 "nbformat_minor": 2
}
