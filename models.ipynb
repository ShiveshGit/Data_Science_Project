{
 "cells": [
  {
   "cell_type": "code",
   "execution_count": 1,
   "metadata": {},
   "outputs": [],
   "source": [
    "import pandas as pd\n",
    "import numpy as np\n",
    "import matplotlib.pyplot as plt\n",
    "import seaborn as sns\n",
    "from sklearn.preprocessing import LabelEncoder, StandardScaler\n",
    "from sklearn.naive_bayes import GaussianNB, MultinomialNB\n",
    "from sklearn.tree import DecisionTreeClassifier\n",
    "from sklearn.ensemble import RandomForestClassifier\n",
    "from sklearn.linear_model import LogisticRegression\n",
    "from sklearn.metrics import accuracy_score, confusion_matrix, classification_report\n",
    "from sklearn.model_selection import train_test_split, cross_val_predict, cross_val_score, KFold\n",
    "from sklearn.svm import LinearSVC,SVC\n",
    "from sklearn.decomposition import PCA\n",
    "from sklearn.ensemble import AdaBoostClassifier\n",
    "# IMPORT XGBOOST\n",
    "from xgboost import XGBClassifier\n",
    "import warnings\n",
    "import pickle\n",
    "from sklearn.preprocessing import OneHotEncoder\n"
   ]
  },
  {
   "cell_type": "code",
   "execution_count": 2,
   "metadata": {},
   "outputs": [],
   "source": [
    "def model_classifier(X_train,X_test,y_train,y_test,model):\n",
    "    mod = model\n",
    "    mod.fit(X_train, y_train)\n",
    "    y_pred = mod.predict(X_test)\n",
    "    \n",
    "    accuracy = accuracy_score(y_test, y_pred)\n",
    "    conf_matrix = confusion_matrix(y_test, y_pred)\n",
    "    report = classification_report(y_test, y_pred)\n",
    "    \n",
    "    \n",
    "    print(\"Accuracy:\", accuracy)\n",
    "    print(\"Confusion Matrix:\\n\", conf_matrix)\n",
    "    print(\"Classification Report:\\n\", report)\n",
    "    return mod"
   ]
  },
  {
   "cell_type": "code",
   "execution_count": 3,
   "metadata": {},
   "outputs": [],
   "source": [
    "def model_classifier_kfold(X, y, model, n_splits=3):\n",
    "    kf = KFold(n_splits=n_splits, shuffle=True, random_state=42)\n",
    "\n",
    "    y_pred = cross_val_predict(model, X, y, cv=kf)\n",
    "    \n",
    "    accuracy = accuracy_score(y, y_pred)\n",
    "    conf_matrix = confusion_matrix(y, y_pred)\n",
    "    report = classification_report(y, y_pred)\n",
    "    \n",
    "    print(\"Accuracy (K-Fold):\", accuracy)\n",
    "    print(\"Confusion Matrix (K-Fold):\\n\", conf_matrix)\n",
    "    print(\"Classification Report (K-Fold):\\n\", report)\n",
    "    \n",
    "    cv_scores = cross_val_score(model, X, y, cv=kf, scoring='accuracy')\n",
    "    print(\"Cross-validation scores:\", cv_scores)\n",
    "    print(\"Mean cross-validation accuracy:\", cv_scores.mean())"
   ]
  },
  {
   "cell_type": "markdown",
   "metadata": {},
   "source": [
    "### Reading the dataset and performing the train test split ###"
   ]
  },
  {
   "cell_type": "code",
   "execution_count": 4,
   "metadata": {},
   "outputs": [
    {
     "name": "stdout",
     "output_type": "stream",
     "text": [
      "(354862, 40)\n"
     ]
    },
    {
     "data": {
      "text/plain": [
       "Index(['State', 'Sex', 'GeneralHealth', 'PhysicalHealthDays',\n",
       "       'MentalHealthDays', 'LastCheckupTime', 'PhysicalActivities',\n",
       "       'SleepHours', 'RemovedTeeth', 'HadHeartAttack', 'HadAngina',\n",
       "       'HadStroke', 'HadAsthma', 'HadSkinCancer', 'HadCOPD',\n",
       "       'HadDepressiveDisorder', 'HadKidneyDisease', 'HadArthritis',\n",
       "       'HadDiabetes', 'DeafOrHardOfHearing', 'BlindOrVisionDifficulty',\n",
       "       'DifficultyConcentrating', 'DifficultyWalking',\n",
       "       'DifficultyDressingBathing', 'DifficultyErrands', 'SmokerStatus',\n",
       "       'ECigaretteUsage', 'ChestScan', 'RaceEthnicityCategory', 'AgeCategory',\n",
       "       'HeightInMeters', 'WeightInKilograms', 'BMI', 'AlcoholDrinkers',\n",
       "       'HIVTesting', 'FluVaxLast12', 'PneumoVaxEver', 'TetanusLast10Tdap',\n",
       "       'HighRiskLastYear', 'CovidPos'],\n",
       "      dtype='object')"
      ]
     },
     "execution_count": 4,
     "metadata": {},
     "output_type": "execute_result"
    }
   ],
   "source": [
    "data = pd.read_csv('dataset\\heart_2022_cleaned.csv')\n",
    "print(data.shape)\n",
    "data.columns"
   ]
  },
  {
   "cell_type": "code",
   "execution_count": 5,
   "metadata": {},
   "outputs": [
    {
     "data": {
      "text/plain": [
       "['State',\n",
       " 'Sex',\n",
       " 'GeneralHealth',\n",
       " 'LastCheckupTime',\n",
       " 'PhysicalActivities',\n",
       " 'RemovedTeeth',\n",
       " 'HadHeartAttack',\n",
       " 'HadAngina',\n",
       " 'HadStroke',\n",
       " 'HadAsthma',\n",
       " 'HadSkinCancer',\n",
       " 'HadCOPD',\n",
       " 'HadDepressiveDisorder',\n",
       " 'HadKidneyDisease',\n",
       " 'HadArthritis',\n",
       " 'HadDiabetes',\n",
       " 'DeafOrHardOfHearing',\n",
       " 'BlindOrVisionDifficulty',\n",
       " 'DifficultyConcentrating',\n",
       " 'DifficultyWalking',\n",
       " 'DifficultyDressingBathing',\n",
       " 'DifficultyErrands',\n",
       " 'SmokerStatus',\n",
       " 'ECigaretteUsage',\n",
       " 'ChestScan',\n",
       " 'RaceEthnicityCategory',\n",
       " 'AgeCategory',\n",
       " 'AlcoholDrinkers',\n",
       " 'HIVTesting',\n",
       " 'FluVaxLast12',\n",
       " 'PneumoVaxEver',\n",
       " 'TetanusLast10Tdap',\n",
       " 'HighRiskLastYear',\n",
       " 'CovidPos']"
      ]
     },
     "execution_count": 5,
     "metadata": {},
     "output_type": "execute_result"
    }
   ],
   "source": [
    "categorical_features = data.select_dtypes(include=['object', 'category']).columns.tolist()\n",
    "categorical_features"
   ]
  },
  {
   "cell_type": "code",
   "execution_count": 6,
   "metadata": {},
   "outputs": [
    {
     "data": {
      "text/plain": [
       "Index(['PhysicalHealthDays', 'MentalHealthDays', 'SleepHours',\n",
       "       'HeightInMeters', 'WeightInKilograms', 'BMI'],\n",
       "      dtype='object')"
      ]
     },
     "execution_count": 6,
     "metadata": {},
     "output_type": "execute_result"
    }
   ],
   "source": [
    "numerical_columns = data.select_dtypes(include=['number']).columns\n",
    "numerical_columns"
   ]
  },
  {
   "cell_type": "code",
   "execution_count": 7,
   "metadata": {},
   "outputs": [
    {
     "data": {
      "text/plain": [
       "((283889, 39), (70973, 39), (283889,), (70973,))"
      ]
     },
     "execution_count": 7,
     "metadata": {},
     "output_type": "execute_result"
    }
   ],
   "source": [
    "# Perform train test split\n",
    "# y = data['GeneralHealth']\n",
    "# X = data.drop('GeneralHealth', axis=1)\n",
    "standard_scaler = StandardScaler()  \n",
    "label_encoder = LabelEncoder()\n",
    "\n",
    "\n",
    "for i in categorical_features:\n",
    "    data[i] = label_encoder.fit_transform(data[i])\n",
    "\n",
    "X_train,X_test = train_test_split(data,test_size=0.2, random_state=42)\n",
    "X_train.shape, X_test.shape\n",
    "\n",
    "\n",
    "X_train[numerical_columns] = standard_scaler.fit_transform(X_train[numerical_columns])\n",
    "X_test[numerical_columns] = standard_scaler.transform(X_test[numerical_columns])\n",
    "\n",
    "Y_test = X_test.pop('GeneralHealth')\n",
    "Y_train = X_train.pop('GeneralHealth')\n",
    "\n",
    "X_train.shape, X_test.shape, Y_train.shape, Y_test.shape"
   ]
  },
  {
   "cell_type": "code",
   "execution_count": 8,
   "metadata": {},
   "outputs": [],
   "source": [
    "X = data[numerical_columns]\n",
    "Y = data.pop('GeneralHealth')"
   ]
  },
  {
   "cell_type": "markdown",
   "metadata": {},
   "source": [
    "### Naive Babes ###"
   ]
  },
  {
   "cell_type": "markdown",
   "metadata": {},
   "source": [
    "Default"
   ]
  },
  {
   "cell_type": "code",
   "execution_count": 9,
   "metadata": {},
   "outputs": [
    {
     "name": "stdout",
     "output_type": "stream",
     "text": [
      "Accuracy: 0.32570132303833854\n",
      "Confusion Matrix:\n",
      " [[ 9109   344   972    56   910]\n",
      " [ 1142  3272  2232  1996   930]\n",
      " [ 8979  3722  5249   828  3777]\n",
      " [   62   854   262  1934    56]\n",
      " [15541  1544  3429   221  3552]]\n",
      "Classification Report:\n",
      "               precision    recall  f1-score   support\n",
      "\n",
      "           0       0.26      0.80      0.39     11391\n",
      "           1       0.34      0.34      0.34      9572\n",
      "           2       0.43      0.23      0.30     22555\n",
      "           3       0.38      0.61      0.47      3168\n",
      "           4       0.39      0.15      0.21     24287\n",
      "\n",
      "    accuracy                           0.33     70973\n",
      "   macro avg       0.36      0.43      0.34     70973\n",
      "weighted avg       0.37      0.33      0.30     70973\n",
      "\n"
     ]
    }
   ],
   "source": [
    "model_naive  = model_classifier(X_train,X_test,Y_train,Y_test,GaussianNB())\n",
    "pickle.dump(model_naive, open('naive_bayes.pkl', 'wb'))"
   ]
  },
  {
   "cell_type": "markdown",
   "metadata": {},
   "source": [
    "K-Fold"
   ]
  },
  {
   "cell_type": "code",
   "execution_count": 11,
   "metadata": {},
   "outputs": [
    {
     "name": "stdout",
     "output_type": "stream",
     "text": [
      "Accuracy (K-Fold): 0.3808184590065998\n",
      "Confusion Matrix (K-Fold):\n",
      " [[21743  2395  3689   261 28904]\n",
      " [ 3622 14500 10722  5357 13737]\n",
      " [17243 13997 23255  2106 56784]\n",
      " [  371  6403  1304  6144  1206]\n",
      " [29345  7094 14445   739 69496]]\n",
      "Classification Report (K-Fold):\n",
      "               precision    recall  f1-score   support\n",
      "\n",
      "           0       0.30      0.38      0.34     56992\n",
      "           1       0.33      0.30      0.31     47938\n",
      "           2       0.44      0.21      0.28    113385\n",
      "           3       0.42      0.40      0.41     15428\n",
      "           4       0.41      0.57      0.48    121119\n",
      "\n",
      "    accuracy                           0.38    354862\n",
      "   macro avg       0.38      0.37      0.36    354862\n",
      "weighted avg       0.39      0.38      0.37    354862\n",
      "\n",
      "Cross-validation scores: [0.38167861 0.38131832 0.37945844]\n",
      "Mean cross-validation accuracy: 0.38081845658267627\n"
     ]
    }
   ],
   "source": [
    "model_naive_kf = model_classifier_kfold(X,Y,GaussianNB()) \n",
    "pickle.dump(model_naive_kf, open('naive_bayes_kf.pkl', 'wb'))"
   ]
  },
  {
   "cell_type": "markdown",
   "metadata": {},
   "source": [
    "### Logistic Regression ###"
   ]
  },
  {
   "cell_type": "markdown",
   "metadata": {},
   "source": [
    "Default"
   ]
  },
  {
   "cell_type": "code",
   "execution_count": 9,
   "metadata": {},
   "outputs": [
    {
     "name": "stdout",
     "output_type": "stream",
     "text": [
      "Accuracy: 0.45344004057881165\n",
      "Confusion Matrix:\n",
      " [[  888    76  1531    35  8861]\n",
      " [   73  2628  4878   691  1302]\n",
      " [  526  1277 10634   233  9885]\n",
      " [    3  1582   540   959    84]\n",
      " [  764   335  6044    71 17073]]\n",
      "Classification Report:\n",
      "               precision    recall  f1-score   support\n",
      "\n",
      "           0       0.39      0.08      0.13     11391\n",
      "           1       0.45      0.27      0.34      9572\n",
      "           2       0.45      0.47      0.46     22555\n",
      "           3       0.48      0.30      0.37      3168\n",
      "           4       0.46      0.70      0.56     24287\n",
      "\n",
      "    accuracy                           0.45     70973\n",
      "   macro avg       0.45      0.37      0.37     70973\n",
      "weighted avg       0.44      0.45      0.42     70973\n",
      "\n"
     ]
    },
    {
     "name": "stderr",
     "output_type": "stream",
     "text": [
      "c:\\Users\\Shivesh\\AppData\\Local\\Programs\\Python\\Python310\\lib\\site-packages\\sklearn\\linear_model\\_logistic.py:460: ConvergenceWarning: lbfgs failed to converge (status=1):\n",
      "STOP: TOTAL NO. of ITERATIONS REACHED LIMIT.\n",
      "\n",
      "Increase the number of iterations (max_iter) or scale the data as shown in:\n",
      "    https://scikit-learn.org/stable/modules/preprocessing.html\n",
      "Please also refer to the documentation for alternative solver options:\n",
      "    https://scikit-learn.org/stable/modules/linear_model.html#logistic-regression\n",
      "  n_iter_i = _check_optimize_result(\n"
     ]
    }
   ],
   "source": [
    "model_logistic = model_classifier(X_train,X_test,Y_train,Y_test,LogisticRegression(verbose=True))\n",
    "pickle.dump(model_logistic, open('models/model_logistic_default.pkl', 'wb'))"
   ]
  },
  {
   "cell_type": "markdown",
   "metadata": {},
   "source": [
    "K-Fold"
   ]
  },
  {
   "cell_type": "code",
   "execution_count": null,
   "metadata": {},
   "outputs": [],
   "source": [
    "model_logistic_kf = model_classifier_kfold(X,Y,LogisticRegression(verbose=True))\n",
    "pickle.dump(model_logistic_kf, open('models/model_logistic_kfold.pkl', 'wb'))"
   ]
  },
  {
   "cell_type": "markdown",
   "metadata": {},
   "source": [
    "### Random Forest ###"
   ]
  },
  {
   "cell_type": "markdown",
   "metadata": {},
   "source": [
    "Default"
   ]
  },
  {
   "cell_type": "code",
   "execution_count": null,
   "metadata": {},
   "outputs": [
    {
     "name": "stderr",
     "output_type": "stream",
     "text": [
      "[Parallel(n_jobs=6)]: Using backend ThreadingBackend with 6 concurrent workers.\n",
      "[Parallel(n_jobs=6)]: Done  38 tasks      | elapsed:   12.2s\n",
      "[Parallel(n_jobs=6)]: Done 100 out of 100 | elapsed:   28.3s finished\n",
      "[Parallel(n_jobs=6)]: Using backend ThreadingBackend with 6 concurrent workers.\n",
      "[Parallel(n_jobs=6)]: Done  38 tasks      | elapsed:    0.5s\n"
     ]
    },
    {
     "name": "stdout",
     "output_type": "stream",
     "text": [
      "Accuracy: 0.45393318585941134\n",
      "Confusion Matrix:\n",
      " [[ 2375   117  2199    13  6687]\n",
      " [   89  3248  4572   656  1007]\n",
      " [  946  1853 11546   160  8050]\n",
      " [    1  1526   498  1093    50]\n",
      " [ 2298   521  7465    48 13955]]\n",
      "Classification Report:\n",
      "               precision    recall  f1-score   support\n",
      "\n",
      "           0       0.42      0.21      0.28     11391\n",
      "           1       0.45      0.34      0.39      9572\n",
      "           2       0.44      0.51      0.47     22555\n",
      "           3       0.55      0.35      0.43      3168\n",
      "           4       0.47      0.57      0.52     24287\n",
      "\n",
      "    accuracy                           0.45     70973\n",
      "   macro avg       0.47      0.40      0.42     70973\n",
      "weighted avg       0.45      0.45      0.44     70973\n",
      "\n"
     ]
    },
    {
     "name": "stderr",
     "output_type": "stream",
     "text": [
      "[Parallel(n_jobs=6)]: Done 100 out of 100 | elapsed:    1.3s finished\n"
     ]
    }
   ],
   "source": [
    "model_rf = model_classifier(X_train,X_test,Y_train,Y_test,RandomForestClassifier(verbose=True,n_jobs=6))\n",
    "# pickle.dump(model_rf, open('models/model_rf_default.pkl', 'wb'))"
   ]
  },
  {
   "cell_type": "markdown",
   "metadata": {},
   "source": [
    "K-fold"
   ]
  },
  {
   "cell_type": "code",
   "execution_count": null,
   "metadata": {},
   "outputs": [],
   "source": [
    "model_rf_kf = model_classifier_kfold(X,Y,RandomForestClassifier(verbose=True,n_jobs=6)) \n",
    "# pickle.dump(model_rf_kf, open('models/model_rf_kfold.pkl', 'wb'))"
   ]
  },
  {
   "cell_type": "markdown",
   "metadata": {},
   "source": [
    "### Decision Tree ###"
   ]
  },
  {
   "cell_type": "markdown",
   "metadata": {},
   "source": [
    "Default"
   ]
  },
  {
   "cell_type": "code",
   "execution_count": null,
   "metadata": {},
   "outputs": [
    {
     "name": "stdout",
     "output_type": "stream",
     "text": [
      "Accuracy: 0.3561917912445578\n",
      "Confusion Matrix:\n",
      " [[3156  530 2817   58 4830]\n",
      " [ 621 2797 3284 1121 1749]\n",
      " [2963 3229 8425  568 7370]\n",
      " [  80 1131  651 1049  257]\n",
      " [5034 1791 7370  239 9853]]\n",
      "Classification Report:\n",
      "               precision    recall  f1-score   support\n",
      "\n",
      "           0       0.27      0.28      0.27     11391\n",
      "           1       0.30      0.29      0.29      9572\n",
      "           2       0.37      0.37      0.37     22555\n",
      "           3       0.35      0.33      0.34      3168\n",
      "           4       0.41      0.41      0.41     24287\n",
      "\n",
      "    accuracy                           0.36     70973\n",
      "   macro avg       0.34      0.34      0.34     70973\n",
      "weighted avg       0.36      0.36      0.36     70973\n",
      "\n"
     ]
    }
   ],
   "source": [
    "model_dt = model_classifier(X_train,X_test,Y_train,Y_test,DecisionTreeClassifier())\n",
    "# pickle.dump(model_dt, open('models/model_dt_default.pkl', 'wb'))"
   ]
  },
  {
   "cell_type": "markdown",
   "metadata": {},
   "source": [
    "K Fold"
   ]
  },
  {
   "cell_type": "code",
   "execution_count": null,
   "metadata": {},
   "outputs": [],
   "source": [
    "model_dt_kf = model_classifier_kfold(X,Y,DecisionTreeClassifier())\n",
    "pickle.dump(model_dt_kf, open('models/model_dt_kfold.pkl', 'wb'))"
   ]
  },
  {
   "cell_type": "markdown",
   "metadata": {},
   "source": [
    "### SVM ###"
   ]
  },
  {
   "cell_type": "markdown",
   "metadata": {},
   "source": [
    "Default"
   ]
  },
  {
   "cell_type": "code",
   "execution_count": null,
   "metadata": {},
   "outputs": [],
   "source": [
    "model_svm = model_classifier(X_train,X_test,Y_train,Y_test,SVC(verbose=True))\n",
    "pickle(model_svm, open('models/model_svm_default.pkl', 'wb'))"
   ]
  },
  {
   "cell_type": "markdown",
   "metadata": {},
   "source": [
    "K Fold"
   ]
  },
  {
   "cell_type": "code",
   "execution_count": null,
   "metadata": {},
   "outputs": [],
   "source": [
    "model_svm_kf = model_classifier_kfold(X,Y,SVC(verbose=True))\n",
    "pickle(model_svm, open('models/model_svm_kfold.pkl', 'wb'))"
   ]
  },
  {
   "cell_type": "markdown",
   "metadata": {},
   "source": [
    "### Ada Boost ###\n"
   ]
  },
  {
   "cell_type": "markdown",
   "metadata": {},
   "source": [
    "Default"
   ]
  },
  {
   "cell_type": "code",
   "execution_count": 17,
   "metadata": {},
   "outputs": [
    {
     "name": "stdout",
     "output_type": "stream",
     "text": [
      "Accuracy: 0.45713158525072917\n",
      "Confusion Matrix:\n",
      " [[  499   109  1648    15  9120]\n",
      " [   41  3283  4384   649  1215]\n",
      " [  358  1913 10432   130  9722]\n",
      " [    2  1523   474  1097    72]\n",
      " [  420   452  6232    50 17133]]\n",
      "Classification Report:\n",
      "               precision    recall  f1-score   support\n",
      "\n",
      "           0       0.38      0.04      0.08     11391\n",
      "           1       0.45      0.34      0.39      9572\n",
      "           2       0.45      0.46      0.46     22555\n",
      "           3       0.57      0.35      0.43      3168\n",
      "           4       0.46      0.71      0.56     24287\n",
      "\n",
      "    accuracy                           0.46     70973\n",
      "   macro avg       0.46      0.38      0.38     70973\n",
      "weighted avg       0.45      0.46      0.42     70973\n",
      "\n"
     ]
    }
   ],
   "source": [
    "model_ada = model_classifier(X_train,X_test,Y_train,Y_test,AdaBoostClassifier())\n",
    "# pickle(model_ada, open('models/model_ada_default.pkl', 'wb'))"
   ]
  },
  {
   "cell_type": "markdown",
   "metadata": {},
   "source": [
    "K Fold"
   ]
  },
  {
   "cell_type": "code",
   "execution_count": null,
   "metadata": {},
   "outputs": [],
   "source": [
    "model_ada_kf = model_classifier_kfold(X,Y,AdaBoostClassifier())\n",
    "pickle(model_ada, open('models/model_ada_kfold.pkl', 'wb'))"
   ]
  },
  {
   "cell_type": "markdown",
   "metadata": {},
   "source": [
    "### XG Boost ###"
   ]
  },
  {
   "cell_type": "markdown",
   "metadata": {},
   "source": [
    "Default"
   ]
  },
  {
   "cell_type": "code",
   "execution_count": null,
   "metadata": {},
   "outputs": [],
   "source": [
    "model_xg = model_classifier(X_train,X_test,Y_train,Y_test,XGBClassifier())\n",
    "# pickle(model_xg, open('models/model_xg_default.pkl', 'wb'))"
   ]
  },
  {
   "cell_type": "markdown",
   "metadata": {},
   "source": [
    "K-Fold"
   ]
  },
  {
   "cell_type": "code",
   "execution_count": null,
   "metadata": {},
   "outputs": [],
   "source": [
    "model_xg_kf = model_classifier_kfold(X,Y,XGBClassifier())\n",
    "pickle(model_xg, open('models/model_xg_kfold.pkl', 'wb'))"
   ]
  }
 ],
 "metadata": {
  "kernelspec": {
   "display_name": "Python 3",
   "language": "python",
   "name": "python3"
  },
  "language_info": {
   "codemirror_mode": {
    "name": "ipython",
    "version": 3
   },
   "file_extension": ".py",
   "mimetype": "text/x-python",
   "name": "python",
   "nbconvert_exporter": "python",
   "pygments_lexer": "ipython3",
   "version": "3.10.1"
  }
 },
 "nbformat": 4,
 "nbformat_minor": 2
}
