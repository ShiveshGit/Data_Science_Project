{
 "cells": [
  {
   "cell_type": "code",
   "execution_count": null,
   "metadata": {
    "execution": {
     "iopub.execute_input": "2024-11-01T11:25:18.941402Z",
     "iopub.status.busy": "2024-11-01T11:25:18.940933Z",
     "iopub.status.idle": "2024-11-01T11:25:21.261227Z",
     "shell.execute_reply": "2024-11-01T11:25:21.259780Z",
     "shell.execute_reply.started": "2024-11-01T11:25:18.941346Z"
    },
    "trusted": true
   },
   "outputs": [],
   "source": [
    "import pandas as pd\n",
    "import numpy as np\n",
    "from scipy.stats import chi2,norm\n",
    "import warnings\n",
    "import os\n",
    "import matplotlib.pyplot as plt\n",
    "import pandas as pd\n",
    "import seaborn as sns"
   ]
  },
  {
   "cell_type": "code",
   "execution_count": 8,
   "metadata": {},
   "outputs": [],
   "source": [
    "PATH = \"/kaggle/input/heart-closed-dataset/heart_2022_cleaned.csv\"\n",
    "PATH=\"dataset/heart_2022_cleaned.csv\""
   ]
  },
  {
   "cell_type": "code",
   "execution_count": 9,
   "metadata": {
    "execution": {
     "iopub.execute_input": "2024-11-01T11:25:21.264299Z",
     "iopub.status.busy": "2024-11-01T11:25:21.263748Z",
     "iopub.status.idle": "2024-11-01T11:25:21.269344Z",
     "shell.execute_reply": "2024-11-01T11:25:21.268131Z",
     "shell.execute_reply.started": "2024-11-01T11:25:21.264257Z"
    },
    "trusted": true
   },
   "outputs": [],
   "source": [
    "warnings.filterwarnings(\"ignore\")"
   ]
  },
  {
   "cell_type": "code",
   "execution_count": 10,
   "metadata": {
    "execution": {
     "iopub.execute_input": "2024-11-01T11:25:21.271309Z",
     "iopub.status.busy": "2024-11-01T11:25:21.270821Z",
     "iopub.status.idle": "2024-11-01T11:25:21.281957Z",
     "shell.execute_reply": "2024-11-01T11:25:21.280836Z",
     "shell.execute_reply.started": "2024-11-01T11:25:21.271269Z"
    },
    "trusted": true
   },
   "outputs": [],
   "source": [
    "def stratified_sampling(df, column_name, num_samples):\n",
    "    return df.groupby(column_name, group_keys=False).apply(lambda x: x.sample(n = num_samples, replace=False))"
   ]
  },
  {
   "cell_type": "code",
   "execution_count": 11,
   "metadata": {
    "execution": {
     "iopub.execute_input": "2024-11-01T11:25:21.285081Z",
     "iopub.status.busy": "2024-11-01T11:25:21.284672Z",
     "iopub.status.idle": "2024-11-01T11:25:21.295230Z",
     "shell.execute_reply": "2024-11-01T11:25:21.294041Z",
     "shell.execute_reply.started": "2024-11-01T11:25:21.285016Z"
    },
    "trusted": true
   },
   "outputs": [],
   "source": [
    "def random_sampling(df, num_samples):\n",
    "    return df.sample(n = num_samples, replace=False)"
   ]
  },
  {
   "cell_type": "code",
   "execution_count": 12,
   "metadata": {
    "execution": {
     "iopub.execute_input": "2024-11-01T11:25:21.297004Z",
     "iopub.status.busy": "2024-11-01T11:25:21.296610Z",
     "iopub.status.idle": "2024-11-01T11:25:26.204464Z",
     "shell.execute_reply": "2024-11-01T11:25:26.203385Z",
     "shell.execute_reply.started": "2024-11-01T11:25:21.296964Z"
    },
    "trusted": true
   },
   "outputs": [],
   "source": [
    "data = pd.read_csv(PATH)"
   ]
  },
  {
   "cell_type": "code",
   "execution_count": 13,
   "metadata": {
    "execution": {
     "iopub.execute_input": "2024-11-01T11:25:26.206464Z",
     "iopub.status.busy": "2024-11-01T11:25:26.206005Z",
     "iopub.status.idle": "2024-11-01T11:25:26.221492Z",
     "shell.execute_reply": "2024-11-01T11:25:26.220160Z",
     "shell.execute_reply.started": "2024-11-01T11:25:26.206411Z"
    },
    "trusted": true
   },
   "outputs": [],
   "source": [
    "def do_chi2_test(data,column1,column2,alpha = 0.01):\n",
    "    # print(\"***************************************************************************************************************************\")\n",
    "    # print(\"Chi2 Test for \",column1 ,\" and \" ,column2)\n",
    "    observed={}\n",
    "    cols=data[column1].unique()\n",
    "    for i in range(len(data[column2])):\n",
    "        if data[column2].iloc[i] not in observed:\n",
    "            observed[data[column2].iloc[i]]={}\n",
    "            for j in cols:\n",
    "                observed[data[column2].iloc[i]][j]=0\n",
    "        observed[data[column2].iloc[i]][data[column1].iloc[i]]+=1\n",
    "\n",
    "    observed=pd.DataFrame(observed).T\n",
    "    observed=observed.sort_index()\n",
    "    observed=observed[sorted(observed.columns)]\n",
    "    # print(\"Observed\")\n",
    "    # print(observed)\n",
    "    # print()\n",
    "    observed=observed.to_numpy()\n",
    "    row_sums = observed.sum(axis=1)\n",
    "    col_sums = observed.sum(axis=0)\n",
    "    total = row_sums.sum()\n",
    "    # expected = np.outer(row_sums, col_sums) / total\n",
    "\n",
    "    expected=np.zeros(observed.shape)\n",
    "    for i in range(observed.shape[0]):\n",
    "        for j in range(observed.shape[1]):\n",
    "            expected[i][j]=row_sums[i]*col_sums[j]/total\n",
    "    exp=pd.DataFrame(expected)\n",
    "    exp.columns=sorted(data[column1].unique())\n",
    "    exp.index=sorted(data[column2].unique())\n",
    "    # print(\"Expected\") \n",
    "    # print(exp)\n",
    "    chi2_stat = ((observed - expected)**2 / expected).sum()\n",
    "   \n",
    "    dof=(len(row_sums)-1)*(len(col_sums)-1)\n",
    "    critical = chi2.ppf(1-alpha, dof)\n",
    "    # print(\"chi2_stat: \",chi2_stat)\n",
    "    # print(\"critical: \",critical)\n",
    "    if chi2_stat>=critical:\n",
    "        # print(\"Dependent (reject H0)\")\n",
    "        return [chi2_stat,critical,1]\n",
    "    else:\n",
    "        # print(\"Independent (fail to reject H0)\")\n",
    "        return [chi2_stat,critical,-1]"
   ]
  },
  {
   "cell_type": "code",
   "execution_count": 14,
   "metadata": {
    "execution": {
     "iopub.execute_input": "2024-11-01T11:25:26.223433Z",
     "iopub.status.busy": "2024-11-01T11:25:26.223071Z",
     "iopub.status.idle": "2024-11-01T11:25:26.412901Z",
     "shell.execute_reply": "2024-11-01T11:25:26.411536Z",
     "shell.execute_reply.started": "2024-11-01T11:25:26.223394Z"
    },
    "trusted": true
   },
   "outputs": [
    {
     "data": {
      "text/plain": [
       "Index(['State', 'Sex', 'GeneralHealth', 'LastCheckupTime',\n",
       "       'PhysicalActivities', 'RemovedTeeth', 'HadHeartAttack', 'HadAngina',\n",
       "       'HadStroke', 'HadAsthma', 'HadSkinCancer', 'HadCOPD',\n",
       "       'HadDepressiveDisorder', 'HadKidneyDisease', 'HadArthritis',\n",
       "       'HadDiabetes', 'DeafOrHardOfHearing', 'BlindOrVisionDifficulty',\n",
       "       'DifficultyConcentrating', 'DifficultyWalking',\n",
       "       'DifficultyDressingBathing', 'DifficultyErrands', 'SmokerStatus',\n",
       "       'ECigaretteUsage', 'ChestScan', 'RaceEthnicityCategory', 'AgeCategory',\n",
       "       'AlcoholDrinkers', 'HIVTesting', 'FluVaxLast12', 'PneumoVaxEver',\n",
       "       'TetanusLast10Tdap', 'HighRiskLastYear', 'CovidPos'],\n",
       "      dtype='object')"
      ]
     },
     "execution_count": 14,
     "metadata": {},
     "output_type": "execute_result"
    }
   ],
   "source": [
    "categorical_columns = data.select_dtypes(include=['object']).columns\n",
    "categorical_columns"
   ]
  },
  {
   "cell_type": "markdown",
   "metadata": {},
   "source": [
    "### $\\chi^2$ Test for independence  ###"
   ]
  },
  {
   "cell_type": "code",
   "execution_count": null,
   "metadata": {
    "execution": {
     "iopub.execute_input": "2024-11-01T11:25:26.415115Z",
     "iopub.status.busy": "2024-11-01T11:25:26.414620Z",
     "iopub.status.idle": "2024-11-01T11:25:26.427199Z",
     "shell.execute_reply": "2024-11-01T11:25:26.426112Z",
     "shell.execute_reply.started": "2024-11-01T11:25:26.415052Z"
    },
    "trusted": true
   },
   "outputs": [],
   "source": [
    "def create_files(sampling_type,range_lower,range_upper,step):\n",
    "    for col in categorical_columns:\n",
    "        if col=='GeneralHealth':\n",
    "            continue\n",
    "        for num_samples in range(range_lower,range_upper,step):\n",
    "            os.makedirs(f'/kaggle/working/output/{sampling_type}/{range_lower}_to_{range_upper}/{num_samples}', exist_ok=True)\n",
    "            f=open(f\"output/{sampling_type}/{range_lower}_to_{range_upper}/{num_samples}/{col}.txt\",\"w\")\n",
    "            for iteration in range(1,6):\n",
    "                if sampling_type==\"stratified_sampling\":\n",
    "                    sample = stratified_sampling(data,'GeneralHealth',num_samples)\n",
    "                else:\n",
    "                    sample = random_sampling(data,num_samples)\n",
    "                f.write(f\"<Iteration-{iteration}>\\n\")\n",
    "                chi2_stat,chi2_critical,result = do_chi2_test(sample,col,'GeneralHealth',0.01)\n",
    "                f.write(f\"{chi2_stat}\\n\")\n",
    "                f.write(f\"{chi2_critical}\\n\")\n",
    "                f.write(f\"{result}\\n\")\n",
    "                print(f\"Iteration-{iteration} done\")\n",
    "            print(f\"Sample Size-{num_samples} done\")    \n",
    "            f.close()\n",
    "        print(f\"{col} done\")"
   ]
  },
  {
   "cell_type": "code",
   "execution_count": null,
   "metadata": {},
   "outputs": [],
   "source": [
    "def make_experiment_plots(sampling_technique,lower_bound,upper_bound,step_size):\n",
    "    fig, axes = plt.subplots(len(categorical_columns), 1, figsize=(10, 100))\n",
    "    for i,categorical_feature in enumerate(categorical_columns):\n",
    "        if categorical_feature=='GeneralHealth':continue\n",
    "        feature_output = []\n",
    "        for num_samples in range(lower_bound,upper_bound,step_size):\n",
    "            with open(f\"output/{sampling_technique}/{lower_bound}_to_{upper_bound}/{num_samples}/{categorical_feature}.txt\", \"r\") as f:\n",
    "                lines = f.readlines()\n",
    "            every_4th_line = [float(lines[j].strip().split()[0]) for j in range(3, len(lines), 4)]\n",
    "            feature_output.append(sum(every_4th_line))\n",
    "        data = pd.DataFrame({'Num Samples': range(lower_bound,upper_bound,step_size), 'Test Result': feature_output})\n",
    "        sns.barplot(ax=axes[i],x=\"Num Samples\",y=\"Test Result\", data = data)\n",
    "        axes[i].set_yticks(range(-5,6))\n",
    "        axes[i].axhline(0,color='black',linewidth=0.5)\n",
    "        axes[i].set_title(f\"{categorical_feature} vs Num Samples\")\n",
    "    plt.tight_layout()\n"
   ]
  },
  {
   "cell_type": "markdown",
   "metadata": {},
   "source": [
    "### Stratified Sampling ###"
   ]
  },
  {
   "cell_type": "markdown",
   "metadata": {},
   "source": [
    "### Sample Size : 1000 to 10000"
   ]
  },
  {
   "cell_type": "code",
   "execution_count": null,
   "metadata": {
    "trusted": true
   },
   "outputs": [],
   "source": [
    "create_files('stratified_sampling',1000,10001,1000)"
   ]
  },
  {
   "cell_type": "code",
   "execution_count": null,
   "metadata": {},
   "outputs": [],
   "source": [
    "make_experiment_plots(\"stratified_sampling\",1000,10001,1000)"
   ]
  },
  {
   "cell_type": "markdown",
   "metadata": {},
   "source": [
    "### Sample Size : 100 to 1000 ###"
   ]
  },
  {
   "cell_type": "code",
   "execution_count": null,
   "metadata": {
    "trusted": true
   },
   "outputs": [],
   "source": [
    "create_files('stratified_sampling',100,1001,100)"
   ]
  },
  {
   "cell_type": "code",
   "execution_count": null,
   "metadata": {},
   "outputs": [],
   "source": [
    "make_experiment_plots(\"stratified_sampling\",100,1001,100)"
   ]
  },
  {
   "cell_type": "markdown",
   "metadata": {},
   "source": [
    "### Random Sampling ###"
   ]
  },
  {
   "cell_type": "markdown",
   "metadata": {},
   "source": [
    "### Sample Size : 5000 to 50000 ###"
   ]
  },
  {
   "cell_type": "code",
   "execution_count": null,
   "metadata": {
    "trusted": true
   },
   "outputs": [],
   "source": [
    "create_files(\"random_sampling\",5000,50001,5000)"
   ]
  },
  {
   "cell_type": "code",
   "execution_count": null,
   "metadata": {},
   "outputs": [],
   "source": [
    "make_experiment_plots(\"random_sampling\",500,50001,5000)   "
   ]
  },
  {
   "cell_type": "markdown",
   "metadata": {},
   "source": [
    "### Sample Size : 500 to 5000 ###"
   ]
  },
  {
   "cell_type": "code",
   "execution_count": null,
   "metadata": {
    "trusted": true
   },
   "outputs": [],
   "source": [
    "create_files(\"random_sampling\",500,5001,500)"
   ]
  },
  {
   "cell_type": "code",
   "execution_count": null,
   "metadata": {},
   "outputs": [],
   "source": [
    "make_experiment_plots(\"random_sampling\",500,5001,500)   "
   ]
  }
 ],
 "metadata": {
  "kaggle": {
   "accelerator": "none",
   "dataSources": [
    {
     "datasetId": 5981638,
     "sourceId": 9766750,
     "sourceType": "datasetVersion"
    }
   ],
   "dockerImageVersionId": 30786,
   "isGpuEnabled": false,
   "isInternetEnabled": true,
   "language": "python",
   "sourceType": "notebook"
  },
  "kernelspec": {
   "display_name": "Python 3",
   "language": "python",
   "name": "python3"
  },
  "language_info": {
   "codemirror_mode": {
    "name": "ipython",
    "version": 3
   },
   "file_extension": ".py",
   "mimetype": "text/x-python",
   "name": "python",
   "nbconvert_exporter": "python",
   "pygments_lexer": "ipython3",
   "version": "3.10.1"
  }
 },
 "nbformat": 4,
 "nbformat_minor": 4
}
