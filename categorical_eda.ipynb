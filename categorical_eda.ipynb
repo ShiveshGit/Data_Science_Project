{
 "cells": [
  {
   "cell_type": "code",
   "execution_count": 1,
   "metadata": {},
   "outputs": [],
   "source": [
    "import pandas as pd\n",
    "import matplotlib.pyplot as plt\n",
    "import seaborn as sns\n",
    "import numpy as np\n",
    "from clean import clean_dataset"
   ]
  },
  {
   "cell_type": "code",
   "execution_count": 2,
   "metadata": {},
   "outputs": [],
   "source": [
    "data_train = pd.read_csv(\"dataset\\\\train.csv\")\n",
    "data_test = pd.read_csv(\"dataset\\\\test.csv\")\n",
    "data = pd.concat([data_train, data_test],axis=0,sort=True)\n",
    "data = data.drop(columns=['Unnamed: 0'])"
   ]
  },
  {
   "cell_type": "code",
   "execution_count": 3,
   "metadata": {},
   "outputs": [
    {
     "name": "stdout",
     "output_type": "stream",
     "text": [
      "Initial data shape:  (299285, 42)\n"
     ]
    }
   ],
   "source": [
    "print(\"Initial data shape: \", data.shape)"
   ]
  },
  {
   "cell_type": "code",
   "execution_count": 4,
   "metadata": {},
   "outputs": [],
   "source": [
    "cont_cols = ['age','wage per hour','capital gains','capital losses','dividends from stocks','num persons worked for employer','weeks worked in year']"
   ]
  },
  {
   "cell_type": "code",
   "execution_count": 5,
   "metadata": {},
   "outputs": [
    {
     "name": "stdout",
     "output_type": "stream",
     "text": [
      "Data shape after removing duplicates:  (292550, 42)\n"
     ]
    }
   ],
   "source": [
    "data.drop_duplicates(inplace=True)\n",
    "print(\"Data shape after removing duplicates: \", data.shape) "
   ]
  },
  {
   "cell_type": "code",
   "execution_count": 6,
   "metadata": {},
   "outputs": [
    {
     "name": "stdout",
     "output_type": "stream",
     "text": [
      "Removing outliers\n",
      "Data Shape after removing outliers :  (285410, 42)\n"
     ]
    }
   ],
   "source": [
    "data = clean_dataset(data)"
   ]
  },
  {
   "cell_type": "code",
   "execution_count": 7,
   "metadata": {},
   "outputs": [
    {
     "name": "stdout",
     "output_type": "stream",
     "text": [
      "(35,)\n"
     ]
    },
    {
     "data": {
      "text/plain": [
       "array(['migration code-move within reg', 'region of previous residence',\n",
       "       'member of a labor union', 'migration code-change in msa',\n",
       "       'migration prev res in sunbelt', 'live in this house 1 year ago',\n",
       "       'enrolled in edu last week', 'occupation code',\n",
       "       'detailed household and family stat', 'industry code',\n",
       "       'hispanic origin', 'state of previous residence',\n",
       "       'below or above $50k', 'country of birth father', '94 or 95',\n",
       "       'veterans benefits', 'instance weight', 'marital status',\n",
       "       'citizenship', 'country of birth self', 'family members under 18',\n",
       "       'major industry code', 'sex', 'own business or self employed',\n",
       "       'full or part time employment stat', 'education',\n",
       "       'tax filer status', 'detailed household summary in household',\n",
       "       'country of birth mother', 'migration code-change in reg', 'race',\n",
       "       \"fill inc questionaire for veteran's admin\",\n",
       "       'major occupation code', 'class of worker',\n",
       "       'reason for unemployment'], dtype='<U41')"
      ]
     },
     "execution_count": 7,
     "metadata": {},
     "output_type": "execute_result"
    }
   ],
   "source": [
    "categorical_cols = set(data.columns).difference(set(cont_cols))\n",
    "categorical_cols = np.array(list(categorical_cols))\n",
    "\n",
    "print(categorical_cols.shape)\n",
    "categorical_cols"
   ]
  },
  {
   "cell_type": "markdown",
   "metadata": {},
   "source": [
    "### Count Plot"
   ]
  },
  {
   "cell_type": "code",
   "execution_count": null,
   "metadata": {},
   "outputs": [],
   "source": [
    "def count_plots(data,categorical_features):\n",
    "    n_cat = len(categorical_features)\n",
    "\n",
    "    fig, axes = plt.subplots(n_cat, 1, figsize=(12, 5*n_cat))\n",
    "\n",
    "    for i, feature in enumerate(categorical_features):\n",
    "        sns.countplot(data=data, x=feature, ax=axes[i] if n_cat > 1 else axes)\n",
    "        axes[i].set_title(f\"Count Plot of {feature}\")\n",
    "        axes[i].tick_params(axis='x', rotation=45)\n",
    "\n",
    "    plt.tight_layout()\n",
    "    plt.show()"
   ]
  },
  {
   "cell_type": "code",
   "execution_count": 9,
   "metadata": {},
   "outputs": [
    {
     "ename": "",
     "evalue": "",
     "output_type": "error",
     "traceback": [
      "\u001b[1;31mThe Kernel crashed while executing code in the current cell or a previous cell. \n",
      "\u001b[1;31mPlease review the code in the cell(s) to identify a possible cause of the failure. \n",
      "\u001b[1;31mClick <a href='https://aka.ms/vscodeJupyterKernelCrash'>here</a> for more info. \n",
      "\u001b[1;31mView Jupyter <a href='command:jupyter.viewOutput'>log</a> for further details."
     ]
    }
   ],
   "source": [
    "count_plots(data,categorical_cols)"
   ]
  }
 ],
 "metadata": {
  "kernelspec": {
   "display_name": "Python 3",
   "language": "python",
   "name": "python3"
  },
  "language_info": {
   "codemirror_mode": {
    "name": "ipython",
    "version": 3
   },
   "file_extension": ".py",
   "mimetype": "text/x-python",
   "name": "python",
   "nbconvert_exporter": "python",
   "pygments_lexer": "ipython3",
   "version": "3.10.1"
  }
 },
 "nbformat": 4,
 "nbformat_minor": 2
}
