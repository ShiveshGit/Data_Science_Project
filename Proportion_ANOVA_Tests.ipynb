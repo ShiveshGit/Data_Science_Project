{
 "cells": [
  {
   "cell_type": "code",
   "execution_count": 24,
   "metadata": {},
   "outputs": [],
   "source": [
    "import pandas as pd\n",
    "import numpy as np\n",
    "from scipy.stats import chi2,norm,f\n",
    "import warnings\n",
    "import os\n",
    "import matplotlib.pyplot as plt\n",
    "import pandas as pd\n",
    "import seaborn as sns\n",
    "from sampling import random_sampling, stratified_sampling"
   ]
  },
  {
   "cell_type": "code",
   "execution_count": 25,
   "metadata": {},
   "outputs": [],
   "source": [
    "PATH = \"/kaggle/input/heart-closed-dataset/heart_2022_cleaned.csv\"\n",
    "PATH=\"dataset/heart_2022_cleaned.csv\""
   ]
  },
  {
   "cell_type": "code",
   "execution_count": 26,
   "metadata": {},
   "outputs": [],
   "source": [
    "data = pd.read_csv(PATH)"
   ]
  },
  {
   "cell_type": "markdown",
   "metadata": {},
   "source": [
    "# Z-test for proportion  #"
   ]
  },
  {
   "cell_type": "code",
   "execution_count": 27,
   "metadata": {},
   "outputs": [],
   "source": [
    "def do_proportion_test(data,column,threshold,alpha,po=0.5):\n",
    "    p = (data[column]>threshold).sum()/len(data[column])\n",
    "    z = (p-po)/np.sqrt(po*(1-po)/len(data[column]))\n",
    "    print(\"z stat : \",z)\n",
    "    critical_value = norm.ppf(1-alpha)\n",
    "    print(\"critical_value : \",critical_value)\n",
    "\n",
    "    if z<=critical_value:\n",
    "        print(\"Reject H0\")\n",
    "    else:\n",
    "        print(\"Fail to reject H0\")"
   ]
  },
  {
   "cell_type": "markdown",
   "metadata": {},
   "source": [
    "### Stratified_Sampling ###"
   ]
  },
  {
   "cell_type": "code",
   "execution_count": 28,
   "metadata": {},
   "outputs": [],
   "source": [
    "sample = stratified_sampling(data,'GeneralHealth',8000)"
   ]
  },
  {
   "cell_type": "code",
   "execution_count": 29,
   "metadata": {},
   "outputs": [
    {
     "name": "stdout",
     "output_type": "stream",
     "text": [
      "z stat :  118.81045873224572\n",
      "critical_value :  1.6448536269514722\n",
      "Fail to reject H0\n"
     ]
    }
   ],
   "source": [
    "do_proportion_test(sample,\"BMI\",25,0.05,0.4)  "
   ]
  },
  {
   "cell_type": "markdown",
   "metadata": {},
   "source": [
    "### Random Sampling ###"
   ]
  },
  {
   "cell_type": "code",
   "execution_count": 30,
   "metadata": {},
   "outputs": [],
   "source": [
    "sample_random = random_sampling(data,40000)"
   ]
  },
  {
   "cell_type": "code",
   "execution_count": 31,
   "metadata": {},
   "outputs": [
    {
     "name": "stdout",
     "output_type": "stream",
     "text": [
      "z stat :  117.58571386085413\n",
      "critical_value :  1.6448536269514722\n",
      "Fail to reject H0\n"
     ]
    }
   ],
   "source": [
    "do_proportion_test(sample_random,\"BMI\",25,0.05,0.4)"
   ]
  },
  {
   "cell_type": "markdown",
   "metadata": {},
   "source": [
    "# ANOVA Test #"
   ]
  },
  {
   "cell_type": "code",
   "execution_count": 32,
   "metadata": {},
   "outputs": [],
   "source": [
    "def perform_anova_test(data,column):\n",
    "    grouped_data = [group[column].values for name,group in data.groupby('GeneralHealth')]   \n",
    "    x_bars = [np.mean(group) for group in grouped_data]\n",
    "    print(x_bars)\n",
    "    x_bar_ka_bar = np.mean(x_bars)\n",
    "    print(x_bar_ka_bar)\n",
    "    SSC = sum([len(group)*(x_bar-x_bar_ka_bar)**2 for group,x_bar in zip(grouped_data,x_bars)])\n",
    "    SSE = sum([sum((group-x_bar)**2) for group,x_bar in zip(grouped_data,x_bars)])\n",
    "    n1 = 4\n",
    "    n2 = len(data[column])-n1\n",
    "    MSC = SSC/n1\n",
    "    MSE = SSE/n2\n",
    "    f_stat = MSC/MSE\n",
    "    f_critical = f.ppf(0.95,n1,n2)\n",
    "    print(\"f_stat : \",f_stat)\n",
    "    print(\"f_critical : \",f_critical)\n",
    "    if f_stat<f_critical:\n",
    "        print(\"Fail to reject H0\")\n",
    "    else:\n",
    "        print(\"Reject H0\")\n",
    "\n"
   ]
  },
  {
   "cell_type": "markdown",
   "metadata": {},
   "source": [
    "### Stratified Sampling ###"
   ]
  },
  {
   "cell_type": "code",
   "execution_count": 33,
   "metadata": {},
   "outputs": [],
   "source": [
    "samples1 = stratified_sampling(data,'GeneralHealth',4000)\n",
    "samples2 = stratified_sampling(data,'GeneralHealth',8000)"
   ]
  },
  {
   "cell_type": "markdown",
   "metadata": {},
   "source": [
    "### Sample Size : 20000 ###"
   ]
  },
  {
   "cell_type": "code",
   "execution_count": 34,
   "metadata": {},
   "outputs": [
    {
     "name": "stdout",
     "output_type": "stream",
     "text": [
      "[25.98209, 30.88079, 29.530625, 30.545012500000002, 27.597955]\n",
      "28.9072945\n",
      "f_stat :  360.86329146631385\n",
      "f_critical :  2.372376403974728\n",
      "Reject H0\n"
     ]
    }
   ],
   "source": [
    "perform_anova_test(samples1,\"BMI\")"
   ]
  },
  {
   "cell_type": "markdown",
   "metadata": {},
   "source": [
    "### Sample Size : 40000"
   ]
  },
  {
   "cell_type": "code",
   "execution_count": 35,
   "metadata": {},
   "outputs": [
    {
     "name": "stdout",
     "output_type": "stream",
     "text": [
      "[25.998510000000003, 30.625445, 29.553262500000002, 30.4096925, 27.601425]\n",
      "28.837667000000003\n",
      "f_stat :  680.1707533920603\n",
      "f_critical :  2.3721542977937946\n",
      "Reject H0\n"
     ]
    }
   ],
   "source": [
    "perform_anova_test(samples2,\"BMI\")"
   ]
  },
  {
   "cell_type": "markdown",
   "metadata": {},
   "source": [
    "### Random Sampling ###"
   ]
  },
  {
   "cell_type": "code",
   "execution_count": 36,
   "metadata": {},
   "outputs": [],
   "source": [
    "samples1_random = random_sampling(data,20000)\n",
    "samples2_random = random_sampling(data,40000)"
   ]
  },
  {
   "cell_type": "markdown",
   "metadata": {},
   "source": [
    "### Sample Size : 20000 ###"
   ]
  },
  {
   "cell_type": "code",
   "execution_count": 37,
   "metadata": {},
   "outputs": [
    {
     "name": "stdout",
     "output_type": "stream",
     "text": [
      "[26.11230817413091, 30.742379323451157, 29.642923994494573, 30.88330264672037, 27.660585106382978]\n",
      "29.008299849035996\n",
      "f_stat :  328.5781668887431\n",
      "f_critical :  2.372376403974728\n",
      "Reject H0\n"
     ]
    }
   ],
   "source": [
    "perform_anova_test(samples1_random,\"BMI\")"
   ]
  },
  {
   "cell_type": "markdown",
   "metadata": {},
   "source": [
    "### Sample Size : 40000 ###"
   ]
  },
  {
   "cell_type": "code",
   "execution_count": 38,
   "metadata": {},
   "outputs": [
    {
     "name": "stdout",
     "output_type": "stream",
     "text": [
      "[26.00219413233458, 30.653567577616652, 29.495302238514935, 30.67286627906977, 27.579561146869516]\n",
      "28.88069827488109\n",
      "f_stat :  662.1529635171618\n",
      "f_critical :  2.3721542977937946\n",
      "Reject H0\n"
     ]
    }
   ],
   "source": [
    "perform_anova_test(samples2_random,\"BMI\")"
   ]
  }
 ],
 "metadata": {
  "kernelspec": {
   "display_name": "Python 3",
   "language": "python",
   "name": "python3"
  },
  "language_info": {
   "codemirror_mode": {
    "name": "ipython",
    "version": 3
   },
   "file_extension": ".py",
   "mimetype": "text/x-python",
   "name": "python",
   "nbconvert_exporter": "python",
   "pygments_lexer": "ipython3",
   "version": "3.10.1"
  }
 },
 "nbformat": 4,
 "nbformat_minor": 2
}
