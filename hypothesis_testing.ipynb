{
 "cells": [
  {
   "cell_type": "code",
   "execution_count": 41,
   "metadata": {},
   "outputs": [],
   "source": [
    "import pandas as pd\n",
    "import numpy as np\n",
    "from scipy.stats import chi2,norm"
   ]
  },
  {
   "cell_type": "code",
   "execution_count": 42,
   "metadata": {},
   "outputs": [],
   "source": [
    "data = pd.read_csv(\"dataset\\heart_2022_cleaned.csv\")"
   ]
  },
  {
   "cell_type": "code",
   "execution_count": 43,
   "metadata": {},
   "outputs": [
    {
     "data": {
      "text/plain": [
       "(354862, 40)"
      ]
     },
     "execution_count": 43,
     "metadata": {},
     "output_type": "execute_result"
    }
   ],
   "source": [
    "data.shape"
   ]
  },
  {
   "cell_type": "code",
   "execution_count": 44,
   "metadata": {},
   "outputs": [],
   "source": [
    "def do_chi2_test(data,column1,column2,alpha = 0.01):\n",
    "    observed={}\n",
    "    cols=data[column1].unique()\n",
    "    for i in range(len(data[column2])):\n",
    "        if data[column2].iloc[i] not in observed:\n",
    "            observed[data[column2].iloc[i]]={}\n",
    "            for j in cols:\n",
    "                observed[data[column2].iloc[i]][j]=0\n",
    "        observed[data[column2].iloc[i]][data[column1].iloc[i]]+=1\n",
    "\n",
    "    observed=pd.DataFrame(observed).T\n",
    "    observed=observed.sort_index()\n",
    "    observed=observed[sorted(observed.columns)]\n",
    "    print(\"Observed\")\n",
    "    print(observed)\n",
    "    print()\n",
    "    observed=observed.to_numpy()\n",
    "    row_sums = observed.sum(axis=1)\n",
    "    col_sums = observed.sum(axis=0)\n",
    "    total = row_sums.sum()\n",
    "    # expected = np.outer(row_sums, col_sums) / total\n",
    "\n",
    "    expected=np.zeros(observed.shape)\n",
    "    for i in range(observed.shape[0]):\n",
    "        for j in range(observed.shape[1]):\n",
    "            expected[i][j]=row_sums[i]*col_sums[j]/total\n",
    "    exp=pd.DataFrame(expected)\n",
    "    exp.columns=sorted(data[column1].unique())\n",
    "    exp.index=sorted(data[column2].unique())\n",
    "    print(\"Expected\") \n",
    "    print(exp)\n",
    "    chi2_stat = ((observed - expected)**2 / expected).sum()\n",
    "   \n",
    "    dof=(len(row_sums)-1)*(len(col_sums)-1)\n",
    "    critical = chi2.ppf(1-alpha, dof)\n",
    "    print(\"chi2_stat: \",chi2_stat)\n",
    "    print(\"critical: \",critical)\n",
    "    if chi2_stat>=critical:\n",
    "        print(\"Dependent (reject H0)\")\n",
    "    else:\n",
    "        print(\"Independent (fail to reject H0)\")\n",
    "    print()"
   ]
  },
  {
   "cell_type": "markdown",
   "metadata": {},
   "source": [
    "### $\\chi^2$ Test for independence between age category and Heart Health ###"
   ]
  },
  {
   "cell_type": "code",
   "execution_count": 45,
   "metadata": {},
   "outputs": [
    {
     "name": "stdout",
     "output_type": "stream",
     "text": [
      "Observed\n",
      "           Age 18 to 24  Age 25 to 29  Age 30 to 34  Age 35 to 39  \\\n",
      "Excellent          4777          3820          4271          4669   \n",
      "Fair               2006          1678          1943          2188   \n",
      "Good               6650          5409          6439          7185   \n",
      "Poor                311           259           391           484   \n",
      "Very good          8031          6658          7591          8448   \n",
      "\n",
      "           Age 40 to 44  Age 45 to 49  Age 50 to 54  Age 55 to 59  \\\n",
      "Excellent          4709          4118          4552          4658   \n",
      "Fair               2620          2878          3592          4394   \n",
      "Good               7598          7221          8653          9058   \n",
      "Poor                651           834          1232          1719   \n",
      "Very good          8586          8029          9094          9930   \n",
      "\n",
      "           Age 60 to 64  Age 65 to 69  Age 70 to 74  Age 75 to 79  \\\n",
      "Excellent          5342          5906          4292          2961   \n",
      "Fair               5533          6135          5365          4351   \n",
      "Good              11122         13547         11725          8806   \n",
      "Poor               2130          2043          1919          1499   \n",
      "Very good         11794         14383         11571          8463   \n",
      "\n",
      "           Age 80 or older  \n",
      "Excellent             2917  \n",
      "Fair                  5255  \n",
      "Good                  9972  \n",
      "Poor                  1956  \n",
      "Very good             8541  \n",
      "\n",
      "Expected\n",
      "           Age 18 to 24  Age 25 to 29  Age 30 to 34  Age 35 to 39  \\\n",
      "Excellent   3497.136352   2862.592805   3314.048616   3689.699680   \n",
      "Fair        2941.565876   2407.828711   2787.564264   3103.537747   \n",
      "Good        6957.516936   5695.099053   6593.265762   7340.619706   \n",
      "Poor         946.691108    774.917213    897.128405    998.818899   \n",
      "Very good   7432.089728   6083.562219   7042.992952   7841.323968   \n",
      "\n",
      "           Age 40 to 44  Age 45 to 49  Age 50 to 54  Age 55 to 59  \\\n",
      "Excellent   3880.817580   3706.723628   4356.042676   4779.392913   \n",
      "Fair        3264.293816   3117.857195   3664.022561   4020.117516   \n",
      "Good        7720.846808   7374.488674   8666.302267   9508.553226   \n",
      "Poor        1050.555405   1003.427360   1179.201053   1293.803935   \n",
      "Very good   8247.486392   7877.503142   9257.431444  10157.132409   \n",
      "\n",
      "           Age 60 to 64  Age 65 to 69  Age 70 to 74  Age 75 to 79  \\\n",
      "Excellent   5769.030305   6747.586070   5600.557467   4188.533458   \n",
      "Fair        4852.536755   5675.634844   4710.828254   3523.124595   \n",
      "Good       11477.426676  13424.253344  11142.251692   8333.044395   \n",
      "Poor        1561.703389   1826.602995   1516.097007   1133.855527   \n",
      "Very good  12260.302875  14339.922747  11902.265579   8901.442025   \n",
      "\n",
      "           Age 80 or older  \n",
      "Excellent      4599.838450  \n",
      "Fair           3869.087865  \n",
      "Good           9151.331461  \n",
      "Poor           1245.197705  \n",
      "Very good      9775.544519  \n",
      "chi2_stat:  8250.446754250812\n",
      "critical:  73.68263852010573\n",
      "Dependent (reject H0)\n",
      "\n"
     ]
    }
   ],
   "source": [
    "do_chi2_test(data,'AgeCategory','General Health',0.01)"
   ]
  },
  {
   "cell_type": "markdown",
   "metadata": {},
   "source": [
    "### Z-test for proportion ###"
   ]
  },
  {
   "cell_type": "code",
   "execution_count": 46,
   "metadata": {},
   "outputs": [],
   "source": [
    "def do_proportion_test(data,column,threshold,alpha,po=0.5):\n",
    "    p = len(data[column]>threshold)/len(data[column])\n",
    "    z = (p-po)/np.sqrt(po*(1-po)/len(data[column]))\n",
    "    print(\"z stat : \",z)\n",
    "    critical_value = norm.ppf(1-alpha)\n",
    "    print(\"critical_value : \",critical_value)\n",
    "\n",
    "    if z<=critical_value:\n",
    "        print(\"Reject H0\")\n",
    "    else:\n",
    "        print(\"Fail to reject H0\")"
   ]
  },
  {
   "cell_type": "code",
   "execution_count": 47,
   "metadata": {},
   "outputs": [
    {
     "name": "stdout",
     "output_type": "stream",
     "text": [
      "z stat :  729.5841281168334\n",
      "critical_value :  1.6448536269514722\n",
      "Fail to reject H0\n"
     ]
    }
   ],
   "source": [
    "do_proportion_test(data,\"BMI\",25,0.05,0.4)  "
   ]
  },
  {
   "cell_type": "markdown",
   "metadata": {},
   "source": [
    "### One-Way ANOVA TEST ###"
   ]
  },
  {
   "cell_type": "code",
   "execution_count": 37,
   "metadata": {},
   "outputs": [],
   "source": [
    "def perform_anova_test(data,column):\n",
    "    groups = [data['BMI'][data['General Health'] == category] for category in data['General Health'].unique()]\n",
    "\n",
    "    # Perform one-way ANOVA\n",
    "    f_stat, p_value = stats.f_oneway(*groups)\n",
    "\n",
    "    print(\"F-statistic:\", f_stat)\n",
    "    print(\"p-value:\", p_value)\n"
   ]
  },
  {
   "cell_type": "code",
   "execution_count": 38,
   "metadata": {},
   "outputs": [
    {
     "name": "stdout",
     "output_type": "stream",
     "text": [
      "F-statistic: 5533.675227941374\n",
      "p-value: 0.0\n"
     ]
    }
   ],
   "source": [
    "# perform_anova_test(data,'General Health',)"
   ]
  }
 ],
 "metadata": {
  "kernelspec": {
   "display_name": "Python 3",
   "language": "python",
   "name": "python3"
  },
  "language_info": {
   "codemirror_mode": {
    "name": "ipython",
    "version": 3
   },
   "file_extension": ".py",
   "mimetype": "text/x-python",
   "name": "python",
   "nbconvert_exporter": "python",
   "pygments_lexer": "ipython3",
   "version": "3.10.1"
  }
 },
 "nbformat": 4,
 "nbformat_minor": 2
}
